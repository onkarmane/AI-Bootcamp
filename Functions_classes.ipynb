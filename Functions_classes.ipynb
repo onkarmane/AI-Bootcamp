{
 "cells": [
  {
   "cell_type": "markdown",
   "id": "8fb44396-676a-4978-9991-5ee4fb8fd715",
   "metadata": {},
   "source": [
    "# Functions "
   ]
  },
  {
   "cell_type": "code",
   "execution_count": null,
   "id": "85244b86-aa2c-4f74-973b-4c6b12e157ba",
   "metadata": {},
   "outputs": [],
   "source": [
    "# Need"
   ]
  },
  {
   "cell_type": "code",
   "execution_count": null,
   "id": "a44dfbd0-65d1-46c6-bfe6-b6dad68ee80e",
   "metadata": {},
   "outputs": [],
   "source": [
    "# Function parts"
   ]
  },
  {
   "cell_type": "code",
   "execution_count": 4,
   "id": "cf1b05ca-bde0-4564-9e15-2d0117b73b98",
   "metadata": {},
   "outputs": [],
   "source": [
    "def preprocess_data(data, normalize=True):\n",
    "    if normalize:\n",
    "        return (data - data.mean()) / data.std()\n",
    "    return data"
   ]
  },
  {
   "cell_type": "code",
   "execution_count": 5,
   "id": "2531c54c-ddc5-439f-b345-c4868a4ee018",
   "metadata": {},
   "outputs": [],
   "source": [
    "import numpy as np\n",
    "data = np.array([1,2,3,4])"
   ]
  },
  {
   "cell_type": "code",
   "execution_count": 6,
   "id": "97f23e3e-961a-4849-9c6f-75d04d9c44b4",
   "metadata": {},
   "outputs": [],
   "source": [
    "n = preprocess_data(data)"
   ]
  },
  {
   "cell_type": "code",
   "execution_count": 7,
   "id": "8a7b00ea-c9b3-4fd1-8c1b-b3f5f390ee90",
   "metadata": {},
   "outputs": [
    {
     "data": {
      "text/plain": [
       "array([-1.34164079, -0.4472136 ,  0.4472136 ,  1.34164079])"
      ]
     },
     "execution_count": 7,
     "metadata": {},
     "output_type": "execute_result"
    }
   ],
   "source": [
    "n"
   ]
  },
  {
   "cell_type": "code",
   "execution_count": null,
   "id": "cce4f9b4-154f-4e3b-bd8a-154cb8c50d4d",
   "metadata": {},
   "outputs": [],
   "source": [
    "# Ques -- Take marks in form of list and return average"
   ]
  },
  {
   "cell_type": "code",
   "execution_count": null,
   "id": "74cef4e1-3921-4f40-bbcf-5368dfe7105e",
   "metadata": {},
   "outputs": [],
   "source": []
  },
  {
   "cell_type": "code",
   "execution_count": null,
   "id": "6baa5aa2-cbc2-4dc7-95e9-8b364ec5c445",
   "metadata": {},
   "outputs": [],
   "source": [
    "# Modular in VS code"
   ]
  },
  {
   "cell_type": "code",
   "execution_count": null,
   "id": "a7e656cd-4b76-458e-bd30-d2be5de32eb4",
   "metadata": {},
   "outputs": [],
   "source": []
  },
  {
   "cell_type": "code",
   "execution_count": null,
   "id": "345a4c43-44c5-4f26-a242-1965361369af",
   "metadata": {},
   "outputs": [],
   "source": [
    "# need of class"
   ]
  },
  {
   "cell_type": "code",
   "execution_count": null,
   "id": "8b92e1fe-eed0-47fe-a8df-b38b198a60ca",
   "metadata": {},
   "outputs": [],
   "source": []
  },
  {
   "cell_type": "code",
   "execution_count": 18,
   "id": "37af1fc8-d468-42bd-9fc1-d22306baf957",
   "metadata": {},
   "outputs": [],
   "source": [
    "class DataManipulator:\n",
    "    def __init__(self, data):\n",
    "        self.data = data\n",
    "\n",
    "    def add_element(self, element):\n",
    "        self.data.append(element)\n",
    "\n",
    "    def remove_element(self, element): \n",
    "        self.data.remove(element)"
   ]
  },
  {
   "cell_type": "code",
   "execution_count": 23,
   "id": "54d8c01f-2b0b-43f7-9b06-59c5211ad062",
   "metadata": {},
   "outputs": [],
   "source": [
    "data = [1, 2, 3, 4, 5]\n",
    "manipulator = DataManipulator(data)\n",
    "\n",
    "manipulator.add_element(6)\n",
    "manipulator.remove_element(3)"
   ]
  },
  {
   "cell_type": "code",
   "execution_count": null,
   "id": "670c657b-672c-4506-8cc9-88d3101b403b",
   "metadata": {},
   "outputs": [],
   "source": [
    "# Create a class that takes a dict and return its keys and values"
   ]
  },
  {
   "cell_type": "code",
   "execution_count": null,
   "id": "08ca3e8d-e162-4daa-b64c-cf8a24f6c3e2",
   "metadata": {},
   "outputs": [],
   "source": []
  },
  {
   "cell_type": "code",
   "execution_count": null,
   "id": "df3d9a19-e496-492a-943b-bb38b7fcd07e",
   "metadata": {},
   "outputs": [],
   "source": [
    "# Modular in vscode"
   ]
  },
  {
   "cell_type": "code",
   "execution_count": null,
   "id": "b69ad097-01fd-4cdc-9aec-d46233e389e7",
   "metadata": {},
   "outputs": [],
   "source": []
  },
  {
   "cell_type": "code",
   "execution_count": null,
   "id": "08a52e34-5559-48fd-8dce-e69f7ea4e1eb",
   "metadata": {},
   "outputs": [],
   "source": [
    "# Your task --> convert below to modular code\n",
    "# Create a class that takes a dict and return its keys and values"
   ]
  }
 ],
 "metadata": {
  "kernelspec": {
   "display_name": "Python 3 (ipykernel)",
   "language": "python",
   "name": "python3"
  },
  "language_info": {
   "codemirror_mode": {
    "name": "ipython",
    "version": 3
   },
   "file_extension": ".py",
   "mimetype": "text/x-python",
   "name": "python",
   "nbconvert_exporter": "python",
   "pygments_lexer": "ipython3",
   "version": "3.13.0"
  }
 },
 "nbformat": 4,
 "nbformat_minor": 5
}
