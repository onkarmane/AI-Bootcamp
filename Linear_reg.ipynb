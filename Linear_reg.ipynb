{
 "cells": [
  {
   "cell_type": "markdown",
   "id": "0b3674d0-b2df-448f-9111-26c5a9f6838e",
   "metadata": {},
   "source": [
    "# Linear Regression"
   ]
  },
  {
   "cell_type": "code",
   "execution_count": null,
   "id": "d85b25c7-29ae-45aa-9370-4f10f3522860",
   "metadata": {},
   "outputs": [],
   "source": [
    "import numpy as np\n",
    "import matplotlib.pyplot as plt\n",
    "\n",
    "# 1. Generate synthetic data\n",
    "np.random.seed(42)\n",
    "X = 2 * np.random.rand(100, 1)  # 100 data points with one feature\n",
    "y = 4 + 3 * X + np.random.randn(100, 1)  # y = 4 + 3x + Gaussian noise\n",
    "# plt.scatter(X,y)"
   ]
  },
  {
   "cell_type": "code",
   "execution_count": null,
   "id": "9450fea6-df1a-4a6f-96c1-a1dbfa10ee7d",
   "metadata": {},
   "outputs": [],
   "source": [
    "# 2. Add a bias term (x0 = 1) to each instance in X\n",
    "X_b = np.c_[np.ones((100, 1)), X]  # Concatenates a column of ones to X for the bias term\n"
   ]
  },
  {
   "cell_type": "code",
   "execution_count": null,
   "id": "735e3c67-9a79-4228-9736-bcaca6f52ed4",
   "metadata": {},
   "outputs": [],
   "source": [
    "# 3. Initialize parameters (theta), learning rate, and number of iterations\n",
    "theta = np.random.randn(2, 1)  # Random initialization of model parameters\n",
    "learning_rate = 0.05\n",
    "n_iterations = 100\n",
    "m = len(X_b)  # Number of samples\n"
   ]
  },
  {
   "cell_type": "code",
   "execution_count": null,
   "id": "323261e9-79e0-4c4b-aa88-c18107107ca2",
   "metadata": {},
   "outputs": [],
   "source": [
    "# 4. Easier Gradient Calculation function\n",
    "def compute_gradient(X, y, theta):\n",
    "    m = len(y)\n",
    "    predictions = X.dot(theta)  # Predictions: X * theta\n",
    "    errors = predictions - y  # Errors: difference between predictions and actual y\n",
    "    gradients = (2/m) * X.T.dot(errors)  # Gradient calculation\n",
    "    return gradients"
   ]
  },
  {
   "cell_type": "code",
   "execution_count": null,
   "id": "9eaf28f5-d051-489d-bcb0-926d6c26049b",
   "metadata": {},
   "outputs": [],
   "source": [
    "# 5. Gradient Descent function\n",
    "def gradient_descent(X, y, theta, learning_rate, n_iterations):\n",
    "    loss_history = []\n",
    "    for epoch in range(n_iterations):\n",
    "        gradients = compute_gradient(X, y, theta)  # Compute gradients\n",
    "        theta = theta - learning_rate * gradients  # Update parameters\n",
    "        loss = (1/m) * np.sum((X.dot(theta) - y) ** 2)  # Mean squared error (MSE)\n",
    "        loss_history.append(loss)  # Track loss for plotting\n",
    "    return theta, loss_history"
   ]
  },
  {
   "cell_type": "code",
   "execution_count": null,
   "id": "1343e9cd-420a-4fcf-9db4-98a37e663e69",
   "metadata": {},
   "outputs": [],
   "source": [
    "# 6. Perform gradient descent\n",
    "theta_best, loss_history = gradient_descent(X_b, y, theta, learning_rate, n_iterations)\n"
   ]
  },
  {
   "cell_type": "code",
   "execution_count": null,
   "id": "0bf00c7d-6474-41fc-8abf-c2985d94d07d",
   "metadata": {},
   "outputs": [],
   "source": [
    "# 7. Plot the loss over epochs with loss points\n",
    "plt.plot(loss_history, label=\"Loss Curve\")\n",
    "plt.scatter(range(len(loss_history)), loss_history, color='red', s=10, label=\"Loss Points\")\n",
    "plt.title(\"Loss over Epochs\")\n",
    "plt.xlabel(\"Epochs\")\n",
    "plt.ylabel(\"Mean Squared Error (MSE)\")\n",
    "plt.grid(True)\n",
    "plt.legend()\n",
    "plt.show()\n",
    "\n",
    "\n",
    "# 8. Plot the regression line with data points\n",
    "plt.scatter(X, y, color='blue', label=\"Data points\")\n",
    "plt.plot(X, X_b.dot(theta_best), color='red', label=\"Regression line\")\n",
    "plt.title(\"Linear Regression with Gradient Descent\")\n",
    "plt.xlabel(\"X\")\n",
    "plt.ylabel(\"y\")\n",
    "plt.legend()\n",
    "plt.show()\n",
    "\n",
    "# Print final model parameters\n",
    "print(f\"Final parameters (theta): \\n{theta_best}\")"
   ]
  },
  {
   "cell_type": "code",
   "execution_count": 2,
   "id": "f8b65247-b5b1-461e-a830-bc3889b1ab2d",
   "metadata": {},
   "outputs": [],
   "source": [
    "# ---Excercise\n",
    "# change\n",
    "# learning_rate\n",
    "# n_iterations"
   ]
  },
  {
   "cell_type": "code",
   "execution_count": null,
   "id": "24b64fae-394d-4b78-b9a9-3fb90dfefd41",
   "metadata": {},
   "outputs": [],
   "source": []
  }
 ],
 "metadata": {
  "kernelspec": {
   "display_name": "Python 3 (ipykernel)",
   "language": "python",
   "name": "python3"
  },
  "language_info": {
   "codemirror_mode": {
    "name": "ipython",
    "version": 3
   },
   "file_extension": ".py",
   "mimetype": "text/x-python",
   "name": "python",
   "nbconvert_exporter": "python",
   "pygments_lexer": "ipython3",
   "version": "3.13.0"
  }
 },
 "nbformat": 4,
 "nbformat_minor": 5
}
