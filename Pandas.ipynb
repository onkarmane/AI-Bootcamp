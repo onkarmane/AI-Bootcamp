{
 "cells": [
  {
   "cell_type": "markdown",
   "id": "cec1ef4f-d13e-4555-82b9-ff59a9cb78ab",
   "metadata": {},
   "source": [
    "# Pandas for Machine Learning"
   ]
  },
  {
   "cell_type": "markdown",
   "id": "dd77f069-ede8-4241-b34a-36ec139e2ecb",
   "metadata": {},
   "source": [
    "**DataFrame:**\n",
    "\n",
    "* Pandas DataFrame is a two-dimensional, size-mutable, and potentially heterogeneous tabular data structure.\n",
    "It allows you to store and manipulate labeled data, making it ideal for handling datasets.\n",
    "\n",
    "**Data Cleaning:**\n",
    "\n",
    "* Pandas provides functions for handling missing data, such as dropna() and fillna().\n",
    "It allows you to filter or replace specific values in a DataFrame.\n",
    "\n",
    "**Data Exploration:**\n",
    "\n",
    "* You can use Pandas for basic statistical analysis, summary statistics, and data exploration.\n",
    "Functions like describe() and info() provide insights into the dataset.\n",
    "\n",
    "**Data Preparation:**\n",
    "\n",
    "* Pandas simplifies data preprocessing tasks like encoding categorical variables (get_dummies()), scaling, and normalizing data.\n",
    "It supports efficient handling of datetime data."
   ]
  },
  {
   "cell_type": "code",
   "execution_count": null,
   "id": "660edf1e-a3d7-4e89-8544-7b22c0e697f5",
   "metadata": {},
   "outputs": [],
   "source": [
    "# Explain the need of Pandas when we have Numpy"
   ]
  },
  {
   "cell_type": "markdown",
   "id": "34c8f26c-5883-4aa0-9389-6472fbeab471",
   "metadata": {},
   "source": [
    "## DataFrame"
   ]
  },
  {
   "cell_type": "markdown",
   "id": "eafa5e77-71dc-4983-8f68-f9b2d07b1b6f",
   "metadata": {},
   "source": [
    "* Pandas DataFrame is two-dimensional size-mutable, potentially heterogeneous tabular data structure with labeled axes (rows and columns). \n",
    "* Pandas DataFrame consists of three principal components, **the data, rows, and columns.**"
   ]
  },
  {
   "cell_type": "code",
   "execution_count": null,
   "id": "13bdd9b3-8de4-4e38-8c01-503fa0d4afef",
   "metadata": {},
   "outputs": [],
   "source": [
    "# Create dataframe using dict"
   ]
  },
  {
   "cell_type": "code",
   "execution_count": null,
   "id": "99585705-b75d-487c-8a47-a664363cf6ca",
   "metadata": {},
   "outputs": [],
   "source": []
  },
  {
   "cell_type": "code",
   "execution_count": null,
   "id": "077227d3-c460-4533-ab57-1a98d2ee78ee",
   "metadata": {},
   "outputs": [],
   "source": [
    "# Create dataframe using dict (keys : list of values), index, cols"
   ]
  },
  {
   "cell_type": "code",
   "execution_count": null,
   "id": "96c7f8c2-dbb2-4685-a995-0a29f88d0276",
   "metadata": {},
   "outputs": [],
   "source": []
  },
  {
   "cell_type": "code",
   "execution_count": null,
   "id": "f31d63eb-883c-4c12-8ec3-4c0b0090f099",
   "metadata": {},
   "outputs": [],
   "source": [
    "#Reading data from csv"
   ]
  },
  {
   "cell_type": "code",
   "execution_count": 2,
   "id": "138487b7-3396-4aed-96a4-be760a55627f",
   "metadata": {},
   "outputs": [],
   "source": [
    "import pandas as pd"
   ]
  },
  {
   "cell_type": "code",
   "execution_count": 4,
   "id": "f5990883-7be6-47ad-bd3c-53c468f98e68",
   "metadata": {},
   "outputs": [],
   "source": [
    "df = pd.read_csv('data\\\\nba.csv')\n"
   ]
  },
  {
   "cell_type": "code",
   "execution_count": null,
   "id": "f07eb791-fa84-40e4-90c9-46cc456ead3b",
   "metadata": {},
   "outputs": [],
   "source": [
    "# Exploring the dataset -- Importance\n",
    "# methods -- info, describe,head(2),tail, sample\n",
    "# attributes - columns, shape"
   ]
  },
  {
   "cell_type": "code",
   "execution_count": null,
   "id": "437f59ec-1e75-4c19-b5e4-6a2852560238",
   "metadata": {},
   "outputs": [],
   "source": [
    "# Feature Selection in Machine Learning\n",
    "# Single cols/ multiple columns"
   ]
  },
  {
   "cell_type": "code",
   "execution_count": null,
   "id": "0ac5a555-fcad-4647-a447-280df63fdbc9",
   "metadata": {},
   "outputs": [],
   "source": []
  },
  {
   "cell_type": "code",
   "execution_count": null,
   "id": "a0770863-ae6b-4cd2-8be5-43375a525a33",
   "metadata": {},
   "outputs": [],
   "source": [
    "# Selecting some rows and some columns\n",
    "\n",
    "# df.loc, df.iloc"
   ]
  },
  {
   "cell_type": "code",
   "execution_count": null,
   "id": "e0de6caf-09d7-450b-af1e-2b8b5af3cb2a",
   "metadata": {},
   "outputs": [],
   "source": []
  },
  {
   "cell_type": "markdown",
   "id": "873f1f55-33c4-4ed5-be47-2a13f155f65f",
   "metadata": {},
   "source": [
    "# Data Cleaning -- Cleaning missing values (NaN)\n",
    "* Clean data ensures the accuracy of machine learning model built on it. Missing values can lead to inaccurate results.\n",
    "\n",
    "\n",
    "* Many machine learning algorithms cannot handle missing values.\n",
    "\n",
    "\n",
    "*  Cleaned data results in better model performance.\n",
    "\n",
    "\n",
    "* Cleaned data improves overall data quality, making it more reliable and trustworthy for decision-making."
   ]
  },
  {
   "cell_type": "code",
   "execution_count": 6,
   "id": "025b9a35-8e1c-459c-aa27-79f29b1da96f",
   "metadata": {},
   "outputs": [],
   "source": [
    "data = pd.read_csv(\"data\\\\employees.csv\") "
   ]
  },
  {
   "cell_type": "code",
   "execution_count": null,
   "id": "3b406fd5-7746-4d49-b948-49f562892a3a",
   "metadata": {},
   "outputs": [],
   "source": [
    "# data.isnull() ,data.isnull().sum()\n",
    "#check data.sample(10)/ df.info()"
   ]
  },
  {
   "cell_type": "code",
   "execution_count": null,
   "id": "047ba03e-7e81-4059-b5b8-312141a84766",
   "metadata": {},
   "outputs": [],
   "source": []
  },
  {
   "cell_type": "code",
   "execution_count": null,
   "id": "44cd2016-1881-4ded-b161-3096447d893e",
   "metadata": {},
   "outputs": [],
   "source": [
    "# Method 1 imputing\n",
    "# using dropna() function along rows\n",
    "# data_dropna = data.dropna(axis = 0)"
   ]
  },
  {
   "cell_type": "code",
   "execution_count": null,
   "id": "93b7554d-a684-4c4b-82a8-f5a7388f1a8c",
   "metadata": {},
   "outputs": [],
   "source": [
    "# Method 2 imputing\n",
    "# fillna(): The fillna() method is employed to fill missing values with a specified value or using various filling strategies\n",
    "# such as forward fill or backward fill.\n",
    "# filling a null values using fillna() --> Imputing\n",
    "data[\"Gender\"].fillna(\"No Gender\", inplace = True) \n",
    "\n",
    "data.sample(15,random_state=42)"
   ]
  },
  {
   "cell_type": "code",
   "execution_count": null,
   "id": "359c40ed-fee7-4bbb-8f3f-8582bfbfc522",
   "metadata": {},
   "outputs": [],
   "source": [
    "# filling a null values using fillna() \n",
    "data[\"Team\"].fillna(\"No Team\", inplace = True) \n",
    "\n",
    "data.sample(20,random_state=42)"
   ]
  },
  {
   "cell_type": "code",
   "execution_count": null,
   "id": "1841678a-1106-4862-93fe-5ca8b87f4f6c",
   "metadata": {},
   "outputs": [],
   "source": [
    "# Method 3 imputing\n",
    "import numpy as np\n",
    "# will replace Nan value in dataframe with value -99 \n",
    "data_replace = data.replace(to_replace = np.nan, value = -99) "
   ]
  },
  {
   "cell_type": "code",
   "execution_count": null,
   "id": "3d61ff07-e6a1-4083-ab01-84417988886d",
   "metadata": {},
   "outputs": [],
   "source": [
    "# ----------------Excercise-----------------------------------------"
   ]
  },
  {
   "cell_type": "markdown",
   "id": "4bd62ecb-a8b1-4b67-9cc8-a9f3a32c04a6",
   "metadata": {},
   "source": [
    "# Exploratory data Analysis"
   ]
  },
  {
   "cell_type": "markdown",
   "id": "c01d81f1-cda7-4153-a978-39e3e9c17c72",
   "metadata": {},
   "source": [
    "# Data Filtering\n",
    "We have seen comparision operators\n",
    "* Greater than > \n",
    "* Less than < \n",
    "* Equal to ==\n",
    "* Not equal to !=\n",
    "* Greater than or equal to >=\n",
    "* Less than or equal to <=\n",
    "\n",
    "\n",
    "* Boolean operators -- AND OR NOT"
   ]
  },
  {
   "cell_type": "code",
   "execution_count": null,
   "id": "c06f2f64-62c2-4386-9738-3ee4651fe0a4",
   "metadata": {},
   "outputs": [],
   "source": [
    "# How to get data of all Males?\n"
   ]
  },
  {
   "cell_type": "code",
   "execution_count": null,
   "id": "c7a3ffa7-04c7-40cb-9d86-45ecffa3402a",
   "metadata": {},
   "outputs": [],
   "source": []
  },
  {
   "cell_type": "code",
   "execution_count": null,
   "id": "f8eaab5b-993f-4b28-8da8-64c6b4120f22",
   "metadata": {},
   "outputs": [],
   "source": [
    "# How many people have salary greator than 40000?"
   ]
  },
  {
   "cell_type": "code",
   "execution_count": null,
   "id": "8195e45b-aafe-45bc-8c4b-f18609e65063",
   "metadata": {},
   "outputs": [],
   "source": []
  },
  {
   "cell_type": "code",
   "execution_count": null,
   "id": "086a4895-9c2f-432c-a098-939d0ba9ae9a",
   "metadata": {},
   "outputs": [],
   "source": [
    "# Filter data for salary less than 40000\n"
   ]
  },
  {
   "cell_type": "code",
   "execution_count": null,
   "id": "0ac9477b-68d7-49b2-8ecf-68c0f620c572",
   "metadata": {},
   "outputs": [],
   "source": []
  },
  {
   "cell_type": "code",
   "execution_count": null,
   "id": "c39c2a02-1d43-4143-b5fd-be917d02c093",
   "metadata": {},
   "outputs": [],
   "source": [
    "# I want data of all employees who work for Marketing team\n"
   ]
  },
  {
   "cell_type": "code",
   "execution_count": null,
   "id": "4cdaf4f6-2431-486f-bf0f-29ba6bb03e29",
   "metadata": {},
   "outputs": [],
   "source": []
  },
  {
   "cell_type": "code",
   "execution_count": null,
   "id": "d7f12771-4aff-4f95-b91c-159f31e1ca63",
   "metadata": {},
   "outputs": [],
   "source": [
    "# I want data of all employees who work except for Marketing team\n"
   ]
  },
  {
   "cell_type": "code",
   "execution_count": null,
   "id": "44e07f66-d870-49f5-8783-41f9b1b0f706",
   "metadata": {},
   "outputs": [],
   "source": []
  },
  {
   "cell_type": "code",
   "execution_count": null,
   "id": "98bcb414-fd46-4c35-8b49-d324a00cc427",
   "metadata": {},
   "outputs": [],
   "source": [
    "# How many male employees work for Finance team ? Bool\n"
   ]
  },
  {
   "cell_type": "code",
   "execution_count": null,
   "id": "1a498114-a5bc-418c-a1f5-1345e2c5189a",
   "metadata": {},
   "outputs": [],
   "source": []
  },
  {
   "cell_type": "code",
   "execution_count": null,
   "id": "3c15b653-8ffd-452e-8499-d6326ccbdbb9",
   "metadata": {},
   "outputs": [],
   "source": [
    "# How many Senior managers have salary greator than 70000?\n"
   ]
  },
  {
   "cell_type": "code",
   "execution_count": null,
   "id": "c9ef457a-9b74-4149-b529-87af5d307bd8",
   "metadata": {},
   "outputs": [],
   "source": []
  },
  {
   "cell_type": "code",
   "execution_count": null,
   "id": "4e131390-84ff-45a8-a093-985488e66425",
   "metadata": {},
   "outputs": [],
   "source": [
    "# Working with dates"
   ]
  },
  {
   "cell_type": "code",
   "execution_count": 8,
   "id": "bb745e60-eb56-4be3-9f35-11a3d0f719fc",
   "metadata": {},
   "outputs": [
    {
     "data": {
      "text/plain": [
       "0        8/6/1993\n",
       "1       3/31/1996\n",
       "2       4/23/1993\n",
       "3        3/4/2005\n",
       "4       1/24/1998\n",
       "          ...    \n",
       "995    11/23/2014\n",
       "996     1/31/1984\n",
       "997     5/20/2013\n",
       "998     4/20/2013\n",
       "999     5/15/2012\n",
       "Name: Start Date, Length: 1000, dtype: object"
      ]
     },
     "execution_count": 8,
     "metadata": {},
     "output_type": "execute_result"
    }
   ],
   "source": [
    "data['Start Date']"
   ]
  },
  {
   "cell_type": "code",
   "execution_count": null,
   "id": "f2c468c4-66dc-4222-923a-568c18cd93bc",
   "metadata": {},
   "outputs": [],
   "source": [
    "#dtype object"
   ]
  },
  {
   "cell_type": "code",
   "execution_count": 9,
   "id": "5499eb69-a2e9-49ad-8a3c-72732c972a0f",
   "metadata": {},
   "outputs": [],
   "source": [
    "data['Start Date'] = pd.to_datetime(data['Start Date'])"
   ]
  },
  {
   "cell_type": "code",
   "execution_count": 10,
   "id": "cc09f416-6154-49d8-b48f-587dc2d84930",
   "metadata": {},
   "outputs": [
    {
     "data": {
      "text/plain": [
       "0     1993-08-06\n",
       "1     1996-03-31\n",
       "2     1993-04-23\n",
       "3     2005-03-04\n",
       "4     1998-01-24\n",
       "         ...    \n",
       "995   2014-11-23\n",
       "996   1984-01-31\n",
       "997   2013-05-20\n",
       "998   2013-04-20\n",
       "999   2012-05-15\n",
       "Name: Start Date, Length: 1000, dtype: datetime64[ns]"
      ]
     },
     "execution_count": 10,
     "metadata": {},
     "output_type": "execute_result"
    }
   ],
   "source": [
    "data['Start Date']"
   ]
  },
  {
   "cell_type": "code",
   "execution_count": 11,
   "id": "22f7e0a3-6ced-4545-9125-b6b8cfd845c9",
   "metadata": {},
   "outputs": [],
   "source": [
    "data['year'] = pd.DatetimeIndex(data['Start Date']).year\n",
    "data['month'] = pd.DatetimeIndex(data['Start Date']).month\n",
    "data['day'] = pd.DatetimeIndex(data['Start Date']).day"
   ]
  },
  {
   "cell_type": "code",
   "execution_count": null,
   "id": "314fcbac-8e2f-493d-b2b7-5e6e67e1b9d5",
   "metadata": {},
   "outputs": [],
   "source": [
    "# How may female employees joined after 2000?"
   ]
  },
  {
   "cell_type": "code",
   "execution_count": null,
   "id": "c4acebfc-e686-4f6e-b714-cecd70ce0ca7",
   "metadata": {},
   "outputs": [],
   "source": []
  },
  {
   "cell_type": "markdown",
   "id": "0b5ecb1d-d6e6-44d2-a1d4-4bd507c336e3",
   "metadata": {},
   "source": [
    "# Group by"
   ]
  },
  {
   "cell_type": "markdown",
   "id": "d28436c6-43a5-4395-a7b4-f3b9f0ac72d0",
   "metadata": {},
   "source": [
    "We summarize the daywise data and create a new dataframe with month-wise data. This is where the groupby funtion is useful. Along with a grouping, we need to specify a way to aggregate the data for each group."
   ]
  },
  {
   "cell_type": "code",
   "execution_count": null,
   "id": "e139d6d0-0b29-4f54-886b-600449f840c6",
   "metadata": {},
   "outputs": [],
   "source": [
    "# I want to find average salary of Male and Female and average Bonus they got"
   ]
  },
  {
   "cell_type": "code",
   "execution_count": null,
   "id": "d9b846d8-5d3e-4ca0-8665-0c1bcea3ebfe",
   "metadata": {},
   "outputs": [],
   "source": [
    "data_month = data.groupby('Gender')[['Salary', 'Bonus %']].mean()"
   ]
  },
  {
   "cell_type": "code",
   "execution_count": null,
   "id": "55af9c25-1373-43c3-8140-dcc18c1f8c54",
   "metadata": {},
   "outputs": [],
   "source": []
  },
  {
   "cell_type": "code",
   "execution_count": null,
   "id": "26cb4439-dea8-444c-af20-7018339ff35b",
   "metadata": {},
   "outputs": [],
   "source": [
    "# I want to fine teamwise average salary and average Bonus."
   ]
  }
 ],
 "metadata": {
  "kernelspec": {
   "display_name": "Python 3 (ipykernel)",
   "language": "python",
   "name": "python3"
  },
  "language_info": {
   "codemirror_mode": {
    "name": "ipython",
    "version": 3
   },
   "file_extension": ".py",
   "mimetype": "text/x-python",
   "name": "python",
   "nbconvert_exporter": "python",
   "pygments_lexer": "ipython3",
   "version": "3.13.0"
  }
 },
 "nbformat": 4,
 "nbformat_minor": 5
}
