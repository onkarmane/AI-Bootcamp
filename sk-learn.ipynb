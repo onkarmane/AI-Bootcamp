{
 "cells": [
  {
   "cell_type": "code",
   "execution_count": null,
   "id": "2d0d3581-bb9e-4520-8356-23cb2a7a6a01",
   "metadata": {},
   "outputs": [],
   "source": [
    "import numpy as np\n",
    "import pandas as pd\n",
    "from sklearn.utils import shuffle\n",
    "from sklearn.model_selection import train_test_split\n",
    "from sklearn.linear_model import LogisticRegression\n",
    "from sklearn.metrics import accuracy_score, precision_score, recall_score\n",
    "\n"
   ]
  },
  {
   "cell_type": "code",
   "execution_count": null,
   "id": "76ae47ef-93b2-4e83-8bb7-5166791374e7",
   "metadata": {},
   "outputs": [],
   "source": [
    "# Step 1: Create a dummy dataset\n",
    "data = {\n",
    "    'Feature1': np.random.randn(100),\n",
    "    'Feature2': np.random.randn(100),\n",
    "    'Target': np.random.randint(0, 2, 100)\n",
    "}\n",
    "df = pd.DataFrame(data)\n",
    "\n"
   ]
  },
  {
   "cell_type": "code",
   "execution_count": null,
   "id": "23bd3814-7853-4740-8049-a5f78002d1a4",
   "metadata": {},
   "outputs": [],
   "source": [
    "# Step 2: Shuffle the dataset\n",
    "df = shuffle(df)\n",
    "\n"
   ]
  },
  {
   "cell_type": "code",
   "execution_count": null,
   "id": "5cadd2f2-d886-4316-91c7-010790727c4c",
   "metadata": {},
   "outputs": [],
   "source": [
    "# Step 3: Split data into features and target\n",
    "X = df[['Feature1', 'Feature2']]\n",
    "y = df['Target']\n",
    "\n",
    "# Step 4: Train-Test Split\n",
    "X_train, X_test, y_train, y_test = train_test_split(X, y, test_size=0.2, random_state=42)\n",
    "# check shapes\n"
   ]
  },
  {
   "cell_type": "code",
   "execution_count": null,
   "id": "a5aa3bcd-a56c-40d4-9720-a40e8edd991f",
   "metadata": {},
   "outputs": [],
   "source": [
    "# Step 5: Train Logistic Regression model\n",
    "model = LogisticRegression()\n",
    "model.fit(X_train, y_train)\n",
    "\n"
   ]
  },
  {
   "cell_type": "code",
   "execution_count": null,
   "id": "eaa150ea-f42a-467f-b88b-2ed94e8b6621",
   "metadata": {},
   "outputs": [],
   "source": [
    "# Step 6: Make predictions\n",
    "y_pred = model.predict(X_test)\n",
    "\n"
   ]
  },
  {
   "cell_type": "code",
   "execution_count": null,
   "id": "2a61ca44-7317-4f55-86f5-a9b521f50181",
   "metadata": {},
   "outputs": [],
   "source": [
    "# Step 7: Evaluate the model\n",
    "accuracy = accuracy_score(y_test, y_pred)\n",
    "precision = precision_score(y_test, y_pred)\n",
    "recall = recall_score(y_test, y_pred)\n",
    "\n",
    "# Display the results\n",
    "print(f'Accuracy: {accuracy:.2f}')\n",
    "print(f'Precision: {precision:.2f}')\n",
    "print(f'Recall: {recall:.2f}')\n"
   ]
  },
  {
   "cell_type": "code",
   "execution_count": null,
   "id": "a2e275ef-28f1-4d01-8160-d678b27273b9",
   "metadata": {},
   "outputs": [],
   "source": [
    "# Your task is to calculate accuracy precision and recall"
   ]
  }
 ],
 "metadata": {
  "kernelspec": {
   "display_name": "Python 3 (ipykernel)",
   "language": "python",
   "name": "python3"
  },
  "language_info": {
   "codemirror_mode": {
    "name": "ipython",
    "version": 3
   },
   "file_extension": ".py",
   "mimetype": "text/x-python",
   "name": "python",
   "nbconvert_exporter": "python",
   "pygments_lexer": "ipython3",
   "version": "3.13.0"
  }
 },
 "nbformat": 4,
 "nbformat_minor": 5
}
